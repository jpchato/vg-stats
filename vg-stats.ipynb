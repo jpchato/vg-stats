{
 "cells": [
  {
   "cell_type": "markdown",
   "metadata": {},
   "source": [
    "# Data Analysis with Pandas\n",
    "* Video Game Stats\n",
    "* Jesse Pena\n",
    "* 5/27/2020"
   ]
  },
  {
   "cell_type": "code",
   "execution_count": 1,
   "metadata": {},
   "outputs": [],
   "source": [
    "import numpy as np\n",
    "import pandas as pd\n",
    "import matplotlib.pyplot as plt"
   ]
  },
  {
   "cell_type": "markdown",
   "metadata": {},
   "source": [
    "* Which company is the most common video game publisher\n",
    "* What’s the most common platform\n",
    "* What about the most common genre\n",
    "* What are the top 20 highest grossing games\n",
    "* For North American video game sales, what’s the median\n",
    "    * Provide secondary output showing ten games surrounding the median sales output\n",
    "        * assume that games with same median value are sorted in descending order\n",
    "* For the top-selling game of all time, how many standard deviations above/below the mean are its sales for North America?\n",
    "* The Nintendo Wii seems to have outdone itself with games. How does its average number of sales compare with all of the other platforms?\n",
    "* Come up with 3 more questions that can be answered with this data set."
   ]
  },
  {
   "cell_type": "code",
   "execution_count": 2,
   "metadata": {},
   "outputs": [
    {
     "output_type": "execute_result",
     "data": {
      "text/plain": "        Rank                                              Name Platform  \\\n0          1                                        Wii Sports      Wii   \n1          2                                 Super Mario Bros.      NES   \n2          3                                    Mario Kart Wii      Wii   \n3          4                                 Wii Sports Resort      Wii   \n4          5                          Pokemon Red/Pokemon Blue       GB   \n...      ...                                               ...      ...   \n16593  16596                Woody Woodpecker in Crazy Castle 5      GBA   \n16594  16597                     Men in Black II: Alien Escape       GC   \n16595  16598  SCORE International Baja 1000: The Official Game      PS2   \n16596  16599                                        Know How 2       DS   \n16597  16600                                  Spirits & Spells      GBA   \n\n         Year         Genre   Publisher  NA_Sales  EU_Sales  JP_Sales  \\\n0      2006.0        Sports    Nintendo     41.49     29.02      3.77   \n1      1985.0      Platform    Nintendo     29.08      3.58      6.81   \n2      2008.0        Racing    Nintendo     15.85     12.88      3.79   \n3      2009.0        Sports    Nintendo     15.75     11.01      3.28   \n4      1996.0  Role-Playing    Nintendo     11.27      8.89     10.22   \n...       ...           ...         ...       ...       ...       ...   \n16593  2002.0      Platform       Kemco      0.01      0.00      0.00   \n16594  2003.0       Shooter  Infogrames      0.01      0.00      0.00   \n16595  2008.0        Racing  Activision      0.00      0.00      0.00   \n16596  2010.0        Puzzle    7G//AMES      0.00      0.01      0.00   \n16597  2003.0      Platform     Wanadoo      0.01      0.00      0.00   \n\n       Other_Sales  Global_Sales  \n0             8.46         82.74  \n1             0.77         40.24  \n2             3.31         35.82  \n3             2.96         33.00  \n4             1.00         31.37  \n...            ...           ...  \n16593         0.00          0.01  \n16594         0.00          0.01  \n16595         0.00          0.01  \n16596         0.00          0.01  \n16597         0.00          0.01  \n\n[16598 rows x 11 columns]",
      "text/html": "<div>\n<style scoped>\n    .dataframe tbody tr th:only-of-type {\n        vertical-align: middle;\n    }\n\n    .dataframe tbody tr th {\n        vertical-align: top;\n    }\n\n    .dataframe thead th {\n        text-align: right;\n    }\n</style>\n<table border=\"1\" class=\"dataframe\">\n  <thead>\n    <tr style=\"text-align: right;\">\n      <th></th>\n      <th>Rank</th>\n      <th>Name</th>\n      <th>Platform</th>\n      <th>Year</th>\n      <th>Genre</th>\n      <th>Publisher</th>\n      <th>NA_Sales</th>\n      <th>EU_Sales</th>\n      <th>JP_Sales</th>\n      <th>Other_Sales</th>\n      <th>Global_Sales</th>\n    </tr>\n  </thead>\n  <tbody>\n    <tr>\n      <th>0</th>\n      <td>1</td>\n      <td>Wii Sports</td>\n      <td>Wii</td>\n      <td>2006.0</td>\n      <td>Sports</td>\n      <td>Nintendo</td>\n      <td>41.49</td>\n      <td>29.02</td>\n      <td>3.77</td>\n      <td>8.46</td>\n      <td>82.74</td>\n    </tr>\n    <tr>\n      <th>1</th>\n      <td>2</td>\n      <td>Super Mario Bros.</td>\n      <td>NES</td>\n      <td>1985.0</td>\n      <td>Platform</td>\n      <td>Nintendo</td>\n      <td>29.08</td>\n      <td>3.58</td>\n      <td>6.81</td>\n      <td>0.77</td>\n      <td>40.24</td>\n    </tr>\n    <tr>\n      <th>2</th>\n      <td>3</td>\n      <td>Mario Kart Wii</td>\n      <td>Wii</td>\n      <td>2008.0</td>\n      <td>Racing</td>\n      <td>Nintendo</td>\n      <td>15.85</td>\n      <td>12.88</td>\n      <td>3.79</td>\n      <td>3.31</td>\n      <td>35.82</td>\n    </tr>\n    <tr>\n      <th>3</th>\n      <td>4</td>\n      <td>Wii Sports Resort</td>\n      <td>Wii</td>\n      <td>2009.0</td>\n      <td>Sports</td>\n      <td>Nintendo</td>\n      <td>15.75</td>\n      <td>11.01</td>\n      <td>3.28</td>\n      <td>2.96</td>\n      <td>33.00</td>\n    </tr>\n    <tr>\n      <th>4</th>\n      <td>5</td>\n      <td>Pokemon Red/Pokemon Blue</td>\n      <td>GB</td>\n      <td>1996.0</td>\n      <td>Role-Playing</td>\n      <td>Nintendo</td>\n      <td>11.27</td>\n      <td>8.89</td>\n      <td>10.22</td>\n      <td>1.00</td>\n      <td>31.37</td>\n    </tr>\n    <tr>\n      <th>...</th>\n      <td>...</td>\n      <td>...</td>\n      <td>...</td>\n      <td>...</td>\n      <td>...</td>\n      <td>...</td>\n      <td>...</td>\n      <td>...</td>\n      <td>...</td>\n      <td>...</td>\n      <td>...</td>\n    </tr>\n    <tr>\n      <th>16593</th>\n      <td>16596</td>\n      <td>Woody Woodpecker in Crazy Castle 5</td>\n      <td>GBA</td>\n      <td>2002.0</td>\n      <td>Platform</td>\n      <td>Kemco</td>\n      <td>0.01</td>\n      <td>0.00</td>\n      <td>0.00</td>\n      <td>0.00</td>\n      <td>0.01</td>\n    </tr>\n    <tr>\n      <th>16594</th>\n      <td>16597</td>\n      <td>Men in Black II: Alien Escape</td>\n      <td>GC</td>\n      <td>2003.0</td>\n      <td>Shooter</td>\n      <td>Infogrames</td>\n      <td>0.01</td>\n      <td>0.00</td>\n      <td>0.00</td>\n      <td>0.00</td>\n      <td>0.01</td>\n    </tr>\n    <tr>\n      <th>16595</th>\n      <td>16598</td>\n      <td>SCORE International Baja 1000: The Official Game</td>\n      <td>PS2</td>\n      <td>2008.0</td>\n      <td>Racing</td>\n      <td>Activision</td>\n      <td>0.00</td>\n      <td>0.00</td>\n      <td>0.00</td>\n      <td>0.00</td>\n      <td>0.01</td>\n    </tr>\n    <tr>\n      <th>16596</th>\n      <td>16599</td>\n      <td>Know How 2</td>\n      <td>DS</td>\n      <td>2010.0</td>\n      <td>Puzzle</td>\n      <td>7G//AMES</td>\n      <td>0.00</td>\n      <td>0.01</td>\n      <td>0.00</td>\n      <td>0.00</td>\n      <td>0.01</td>\n    </tr>\n    <tr>\n      <th>16597</th>\n      <td>16600</td>\n      <td>Spirits &amp; Spells</td>\n      <td>GBA</td>\n      <td>2003.0</td>\n      <td>Platform</td>\n      <td>Wanadoo</td>\n      <td>0.01</td>\n      <td>0.00</td>\n      <td>0.00</td>\n      <td>0.00</td>\n      <td>0.01</td>\n    </tr>\n  </tbody>\n</table>\n<p>16598 rows × 11 columns</p>\n</div>"
     },
     "metadata": {},
     "execution_count": 2
    }
   ],
   "source": [
    "vg_df = pd.read_csv(\"vgsales.csv\")\n",
    "vg_df"
   ]
  },
  {
   "cell_type": "markdown",
   "metadata": {},
   "source": [
    "## Which company is the most common video game publisher?\n",
    "* solution found [here](https://stackoverflow.com/a/15139677)"
   ]
  },
  {
   "cell_type": "code",
   "execution_count": 3,
   "metadata": {},
   "outputs": [
    {
     "output_type": "stream",
     "name": "stdout",
     "text": "1351\n"
    },
    {
     "output_type": "execute_result",
     "data": {
      "text/plain": "'Electronic Arts'"
     },
     "metadata": {},
     "execution_count": 3
    }
   ],
   "source": [
    "vg_df['Publisher'].value_counts().max()\n",
    "print(vg_df['Publisher'].value_counts().max())\n",
    "vg_df['Publisher'].value_counts().idxmax()"
   ]
  },
  {
   "cell_type": "markdown",
   "metadata": {},
   "source": [
    "## What’s the most common platform?\n",
    "* used same solution from previous question"
   ]
  },
  {
   "cell_type": "code",
   "execution_count": 4,
   "metadata": {},
   "outputs": [
    {
     "output_type": "stream",
     "name": "stdout",
     "text": "2163\n"
    },
    {
     "output_type": "execute_result",
     "data": {
      "text/plain": "'DS'"
     },
     "metadata": {},
     "execution_count": 4
    }
   ],
   "source": [
    "vg_df['Platform'].value_counts().max()\n",
    "print(vg_df['Platform'].value_counts().max())\n",
    "vg_df['Platform'].value_counts().idxmax()"
   ]
  },
  {
   "cell_type": "markdown",
   "metadata": {},
   "source": [
    "## What about the most common genre?\n",
    "* same solution from first question"
   ]
  },
  {
   "cell_type": "code",
   "execution_count": 5,
   "metadata": {},
   "outputs": [
    {
     "output_type": "stream",
     "name": "stdout",
     "text": "3316\n"
    },
    {
     "output_type": "execute_result",
     "data": {
      "text/plain": "'Action'"
     },
     "metadata": {},
     "execution_count": 5
    }
   ],
   "source": [
    "vg_df['Genre'].value_counts().max()\n",
    "print(vg_df['Genre'].value_counts().max())\n",
    "vg_df['Genre'].value_counts().idxmax()"
   ]
  },
  {
   "cell_type": "markdown",
   "metadata": {},
   "source": [
    "## What are the top 20 highest grossing games?\n",
    "* solution found [here](https://pandas.pydata.org/pandas-docs/stable/reference/api/pandas.DataFrame.nlargest.html)"
   ]
  },
  {
   "cell_type": "code",
   "execution_count": 6,
   "metadata": {},
   "outputs": [
    {
     "output_type": "execute_result",
     "data": {
      "text/plain": "    Rank                                          Name Platform    Year  \\\n0      1                                    Wii Sports      Wii  2006.0   \n1      2                             Super Mario Bros.      NES  1985.0   \n2      3                                Mario Kart Wii      Wii  2008.0   \n3      4                             Wii Sports Resort      Wii  2009.0   \n4      5                      Pokemon Red/Pokemon Blue       GB  1996.0   \n5      6                                        Tetris       GB  1989.0   \n6      7                         New Super Mario Bros.       DS  2006.0   \n7      8                                      Wii Play      Wii  2006.0   \n8      9                     New Super Mario Bros. Wii      Wii  2009.0   \n9     10                                     Duck Hunt      NES  1984.0   \n10    11                                    Nintendogs       DS  2005.0   \n11    12                                 Mario Kart DS       DS  2005.0   \n12    13                   Pokemon Gold/Pokemon Silver       GB  1999.0   \n13    14                                       Wii Fit      Wii  2007.0   \n14    15                                  Wii Fit Plus      Wii  2009.0   \n15    16                            Kinect Adventures!     X360  2010.0   \n16    17                            Grand Theft Auto V      PS3  2013.0   \n17    18                 Grand Theft Auto: San Andreas      PS2  2004.0   \n18    19                             Super Mario World     SNES  1990.0   \n19    20  Brain Age: Train Your Brain in Minutes a Day       DS  2005.0   \n\n           Genre               Publisher  NA_Sales  EU_Sales  JP_Sales  \\\n0         Sports                Nintendo     41.49     29.02      3.77   \n1       Platform                Nintendo     29.08      3.58      6.81   \n2         Racing                Nintendo     15.85     12.88      3.79   \n3         Sports                Nintendo     15.75     11.01      3.28   \n4   Role-Playing                Nintendo     11.27      8.89     10.22   \n5         Puzzle                Nintendo     23.20      2.26      4.22   \n6       Platform                Nintendo     11.38      9.23      6.50   \n7           Misc                Nintendo     14.03      9.20      2.93   \n8       Platform                Nintendo     14.59      7.06      4.70   \n9        Shooter                Nintendo     26.93      0.63      0.28   \n10    Simulation                Nintendo      9.07     11.00      1.93   \n11        Racing                Nintendo      9.81      7.57      4.13   \n12  Role-Playing                Nintendo      9.00      6.18      7.20   \n13        Sports                Nintendo      8.94      8.03      3.60   \n14        Sports                Nintendo      9.09      8.59      2.53   \n15          Misc  Microsoft Game Studios     14.97      4.94      0.24   \n16        Action    Take-Two Interactive      7.01      9.27      0.97   \n17        Action    Take-Two Interactive      9.43      0.40      0.41   \n18      Platform                Nintendo     12.78      3.75      3.54   \n19          Misc                Nintendo      4.75      9.26      4.16   \n\n    Other_Sales  Global_Sales  \n0          8.46         82.74  \n1          0.77         40.24  \n2          3.31         35.82  \n3          2.96         33.00  \n4          1.00         31.37  \n5          0.58         30.26  \n6          2.90         30.01  \n7          2.85         29.02  \n8          2.26         28.62  \n9          0.47         28.31  \n10         2.75         24.76  \n11         1.92         23.42  \n12         0.71         23.10  \n13         2.15         22.72  \n14         1.79         22.00  \n15         1.67         21.82  \n16         4.14         21.40  \n17        10.57         20.81  \n18         0.55         20.61  \n19         2.05         20.22  ",
      "text/html": "<div>\n<style scoped>\n    .dataframe tbody tr th:only-of-type {\n        vertical-align: middle;\n    }\n\n    .dataframe tbody tr th {\n        vertical-align: top;\n    }\n\n    .dataframe thead th {\n        text-align: right;\n    }\n</style>\n<table border=\"1\" class=\"dataframe\">\n  <thead>\n    <tr style=\"text-align: right;\">\n      <th></th>\n      <th>Rank</th>\n      <th>Name</th>\n      <th>Platform</th>\n      <th>Year</th>\n      <th>Genre</th>\n      <th>Publisher</th>\n      <th>NA_Sales</th>\n      <th>EU_Sales</th>\n      <th>JP_Sales</th>\n      <th>Other_Sales</th>\n      <th>Global_Sales</th>\n    </tr>\n  </thead>\n  <tbody>\n    <tr>\n      <th>0</th>\n      <td>1</td>\n      <td>Wii Sports</td>\n      <td>Wii</td>\n      <td>2006.0</td>\n      <td>Sports</td>\n      <td>Nintendo</td>\n      <td>41.49</td>\n      <td>29.02</td>\n      <td>3.77</td>\n      <td>8.46</td>\n      <td>82.74</td>\n    </tr>\n    <tr>\n      <th>1</th>\n      <td>2</td>\n      <td>Super Mario Bros.</td>\n      <td>NES</td>\n      <td>1985.0</td>\n      <td>Platform</td>\n      <td>Nintendo</td>\n      <td>29.08</td>\n      <td>3.58</td>\n      <td>6.81</td>\n      <td>0.77</td>\n      <td>40.24</td>\n    </tr>\n    <tr>\n      <th>2</th>\n      <td>3</td>\n      <td>Mario Kart Wii</td>\n      <td>Wii</td>\n      <td>2008.0</td>\n      <td>Racing</td>\n      <td>Nintendo</td>\n      <td>15.85</td>\n      <td>12.88</td>\n      <td>3.79</td>\n      <td>3.31</td>\n      <td>35.82</td>\n    </tr>\n    <tr>\n      <th>3</th>\n      <td>4</td>\n      <td>Wii Sports Resort</td>\n      <td>Wii</td>\n      <td>2009.0</td>\n      <td>Sports</td>\n      <td>Nintendo</td>\n      <td>15.75</td>\n      <td>11.01</td>\n      <td>3.28</td>\n      <td>2.96</td>\n      <td>33.00</td>\n    </tr>\n    <tr>\n      <th>4</th>\n      <td>5</td>\n      <td>Pokemon Red/Pokemon Blue</td>\n      <td>GB</td>\n      <td>1996.0</td>\n      <td>Role-Playing</td>\n      <td>Nintendo</td>\n      <td>11.27</td>\n      <td>8.89</td>\n      <td>10.22</td>\n      <td>1.00</td>\n      <td>31.37</td>\n    </tr>\n    <tr>\n      <th>5</th>\n      <td>6</td>\n      <td>Tetris</td>\n      <td>GB</td>\n      <td>1989.0</td>\n      <td>Puzzle</td>\n      <td>Nintendo</td>\n      <td>23.20</td>\n      <td>2.26</td>\n      <td>4.22</td>\n      <td>0.58</td>\n      <td>30.26</td>\n    </tr>\n    <tr>\n      <th>6</th>\n      <td>7</td>\n      <td>New Super Mario Bros.</td>\n      <td>DS</td>\n      <td>2006.0</td>\n      <td>Platform</td>\n      <td>Nintendo</td>\n      <td>11.38</td>\n      <td>9.23</td>\n      <td>6.50</td>\n      <td>2.90</td>\n      <td>30.01</td>\n    </tr>\n    <tr>\n      <th>7</th>\n      <td>8</td>\n      <td>Wii Play</td>\n      <td>Wii</td>\n      <td>2006.0</td>\n      <td>Misc</td>\n      <td>Nintendo</td>\n      <td>14.03</td>\n      <td>9.20</td>\n      <td>2.93</td>\n      <td>2.85</td>\n      <td>29.02</td>\n    </tr>\n    <tr>\n      <th>8</th>\n      <td>9</td>\n      <td>New Super Mario Bros. Wii</td>\n      <td>Wii</td>\n      <td>2009.0</td>\n      <td>Platform</td>\n      <td>Nintendo</td>\n      <td>14.59</td>\n      <td>7.06</td>\n      <td>4.70</td>\n      <td>2.26</td>\n      <td>28.62</td>\n    </tr>\n    <tr>\n      <th>9</th>\n      <td>10</td>\n      <td>Duck Hunt</td>\n      <td>NES</td>\n      <td>1984.0</td>\n      <td>Shooter</td>\n      <td>Nintendo</td>\n      <td>26.93</td>\n      <td>0.63</td>\n      <td>0.28</td>\n      <td>0.47</td>\n      <td>28.31</td>\n    </tr>\n    <tr>\n      <th>10</th>\n      <td>11</td>\n      <td>Nintendogs</td>\n      <td>DS</td>\n      <td>2005.0</td>\n      <td>Simulation</td>\n      <td>Nintendo</td>\n      <td>9.07</td>\n      <td>11.00</td>\n      <td>1.93</td>\n      <td>2.75</td>\n      <td>24.76</td>\n    </tr>\n    <tr>\n      <th>11</th>\n      <td>12</td>\n      <td>Mario Kart DS</td>\n      <td>DS</td>\n      <td>2005.0</td>\n      <td>Racing</td>\n      <td>Nintendo</td>\n      <td>9.81</td>\n      <td>7.57</td>\n      <td>4.13</td>\n      <td>1.92</td>\n      <td>23.42</td>\n    </tr>\n    <tr>\n      <th>12</th>\n      <td>13</td>\n      <td>Pokemon Gold/Pokemon Silver</td>\n      <td>GB</td>\n      <td>1999.0</td>\n      <td>Role-Playing</td>\n      <td>Nintendo</td>\n      <td>9.00</td>\n      <td>6.18</td>\n      <td>7.20</td>\n      <td>0.71</td>\n      <td>23.10</td>\n    </tr>\n    <tr>\n      <th>13</th>\n      <td>14</td>\n      <td>Wii Fit</td>\n      <td>Wii</td>\n      <td>2007.0</td>\n      <td>Sports</td>\n      <td>Nintendo</td>\n      <td>8.94</td>\n      <td>8.03</td>\n      <td>3.60</td>\n      <td>2.15</td>\n      <td>22.72</td>\n    </tr>\n    <tr>\n      <th>14</th>\n      <td>15</td>\n      <td>Wii Fit Plus</td>\n      <td>Wii</td>\n      <td>2009.0</td>\n      <td>Sports</td>\n      <td>Nintendo</td>\n      <td>9.09</td>\n      <td>8.59</td>\n      <td>2.53</td>\n      <td>1.79</td>\n      <td>22.00</td>\n    </tr>\n    <tr>\n      <th>15</th>\n      <td>16</td>\n      <td>Kinect Adventures!</td>\n      <td>X360</td>\n      <td>2010.0</td>\n      <td>Misc</td>\n      <td>Microsoft Game Studios</td>\n      <td>14.97</td>\n      <td>4.94</td>\n      <td>0.24</td>\n      <td>1.67</td>\n      <td>21.82</td>\n    </tr>\n    <tr>\n      <th>16</th>\n      <td>17</td>\n      <td>Grand Theft Auto V</td>\n      <td>PS3</td>\n      <td>2013.0</td>\n      <td>Action</td>\n      <td>Take-Two Interactive</td>\n      <td>7.01</td>\n      <td>9.27</td>\n      <td>0.97</td>\n      <td>4.14</td>\n      <td>21.40</td>\n    </tr>\n    <tr>\n      <th>17</th>\n      <td>18</td>\n      <td>Grand Theft Auto: San Andreas</td>\n      <td>PS2</td>\n      <td>2004.0</td>\n      <td>Action</td>\n      <td>Take-Two Interactive</td>\n      <td>9.43</td>\n      <td>0.40</td>\n      <td>0.41</td>\n      <td>10.57</td>\n      <td>20.81</td>\n    </tr>\n    <tr>\n      <th>18</th>\n      <td>19</td>\n      <td>Super Mario World</td>\n      <td>SNES</td>\n      <td>1990.0</td>\n      <td>Platform</td>\n      <td>Nintendo</td>\n      <td>12.78</td>\n      <td>3.75</td>\n      <td>3.54</td>\n      <td>0.55</td>\n      <td>20.61</td>\n    </tr>\n    <tr>\n      <th>19</th>\n      <td>20</td>\n      <td>Brain Age: Train Your Brain in Minutes a Day</td>\n      <td>DS</td>\n      <td>2005.0</td>\n      <td>Misc</td>\n      <td>Nintendo</td>\n      <td>4.75</td>\n      <td>9.26</td>\n      <td>4.16</td>\n      <td>2.05</td>\n      <td>20.22</td>\n    </tr>\n  </tbody>\n</table>\n</div>"
     },
     "metadata": {},
     "execution_count": 6
    }
   ],
   "source": [
    "vg_df.nlargest(20,[\"Global_Sales\"])"
   ]
  },
  {
   "cell_type": "markdown",
   "metadata": {},
   "source": [
    "## For North American video game sales, what’s the median?\n",
    "* Provide secondary output showing ten games surrounding the median sales output\n",
    "* assume that games with same median value are sorted in descending order\n",
    "* median solution [here](https://youtu.be/dcqPhpY7tWk?t=249)"
   ]
  },
  {
   "cell_type": "code",
   "execution_count": 7,
   "metadata": {},
   "outputs": [
    {
     "output_type": "execute_result",
     "data": {
      "text/plain": "0.08"
     },
     "metadata": {},
     "execution_count": 7
    }
   ],
   "source": [
    "vg_df[\"NA_Sales\"].median()\n",
    "\n"
   ]
  },
  {
   "cell_type": "code",
   "execution_count": 8,
   "metadata": {},
   "outputs": [
    {
     "output_type": "execute_result",
     "data": {
      "text/plain": "             Rank    Year  EU_Sales  JP_Sales  Other_Sales  Global_Sales\nNA_Sales                                                                \n0.00      12859.0  2009.0      0.00      0.04         0.00          0.05\n0.01      15526.0  2006.0      0.01      0.00         0.00          0.02\n0.02      14478.5  2006.0      0.01      0.00         0.00          0.03\n0.03      13294.0  2006.0      0.01      0.00         0.00          0.05\n0.04      12675.0  2006.0      0.01      0.00         0.00          0.06\n0.05      11846.5  2006.0      0.02      0.00         0.01          0.07\n0.06      11196.0  2007.0      0.02      0.00         0.01          0.09\n0.07      10568.0  2008.0      0.02      0.00         0.01          0.10\n0.08      10014.0  2008.0      0.02      0.00         0.01          0.11\n0.09       9455.0  2008.0      0.03      0.00         0.01          0.13",
      "text/html": "<div>\n<style scoped>\n    .dataframe tbody tr th:only-of-type {\n        vertical-align: middle;\n    }\n\n    .dataframe tbody tr th {\n        vertical-align: top;\n    }\n\n    .dataframe thead th {\n        text-align: right;\n    }\n</style>\n<table border=\"1\" class=\"dataframe\">\n  <thead>\n    <tr style=\"text-align: right;\">\n      <th></th>\n      <th>Rank</th>\n      <th>Year</th>\n      <th>EU_Sales</th>\n      <th>JP_Sales</th>\n      <th>Other_Sales</th>\n      <th>Global_Sales</th>\n    </tr>\n    <tr>\n      <th>NA_Sales</th>\n      <th></th>\n      <th></th>\n      <th></th>\n      <th></th>\n      <th></th>\n      <th></th>\n    </tr>\n  </thead>\n  <tbody>\n    <tr>\n      <th>0.00</th>\n      <td>12859.0</td>\n      <td>2009.0</td>\n      <td>0.00</td>\n      <td>0.04</td>\n      <td>0.00</td>\n      <td>0.05</td>\n    </tr>\n    <tr>\n      <th>0.01</th>\n      <td>15526.0</td>\n      <td>2006.0</td>\n      <td>0.01</td>\n      <td>0.00</td>\n      <td>0.00</td>\n      <td>0.02</td>\n    </tr>\n    <tr>\n      <th>0.02</th>\n      <td>14478.5</td>\n      <td>2006.0</td>\n      <td>0.01</td>\n      <td>0.00</td>\n      <td>0.00</td>\n      <td>0.03</td>\n    </tr>\n    <tr>\n      <th>0.03</th>\n      <td>13294.0</td>\n      <td>2006.0</td>\n      <td>0.01</td>\n      <td>0.00</td>\n      <td>0.00</td>\n      <td>0.05</td>\n    </tr>\n    <tr>\n      <th>0.04</th>\n      <td>12675.0</td>\n      <td>2006.0</td>\n      <td>0.01</td>\n      <td>0.00</td>\n      <td>0.00</td>\n      <td>0.06</td>\n    </tr>\n    <tr>\n      <th>0.05</th>\n      <td>11846.5</td>\n      <td>2006.0</td>\n      <td>0.02</td>\n      <td>0.00</td>\n      <td>0.01</td>\n      <td>0.07</td>\n    </tr>\n    <tr>\n      <th>0.06</th>\n      <td>11196.0</td>\n      <td>2007.0</td>\n      <td>0.02</td>\n      <td>0.00</td>\n      <td>0.01</td>\n      <td>0.09</td>\n    </tr>\n    <tr>\n      <th>0.07</th>\n      <td>10568.0</td>\n      <td>2008.0</td>\n      <td>0.02</td>\n      <td>0.00</td>\n      <td>0.01</td>\n      <td>0.10</td>\n    </tr>\n    <tr>\n      <th>0.08</th>\n      <td>10014.0</td>\n      <td>2008.0</td>\n      <td>0.02</td>\n      <td>0.00</td>\n      <td>0.01</td>\n      <td>0.11</td>\n    </tr>\n    <tr>\n      <th>0.09</th>\n      <td>9455.0</td>\n      <td>2008.0</td>\n      <td>0.03</td>\n      <td>0.00</td>\n      <td>0.01</td>\n      <td>0.13</td>\n    </tr>\n  </tbody>\n</table>\n</div>"
     },
     "metadata": {},
     "execution_count": 8
    }
   ],
   "source": [
    "vg_df.groupby([\"NA_Sales\"]).median().head(10)\n",
    "# vg_df.sort_values(by=['NA_Sales']).median()"
   ]
  },
  {
   "cell_type": "markdown",
   "metadata": {},
   "source": [
    "## For the top-selling game of all time, how many standard deviations above/below the mean are its sales for North America?\n",
    "* Wii Sports\n",
    "* Solution = 50.80306374875828"
   ]
  },
  {
   "cell_type": "code",
   "execution_count": 9,
   "metadata": {},
   "outputs": [
    {
     "output_type": "execute_result",
     "data": {
      "text/plain": "0.02"
     },
     "metadata": {},
     "execution_count": 9
    }
   ],
   "source": [
    "vg_df['Global_Sales'].value_counts().idxmax()"
   ]
  },
  {
   "cell_type": "code",
   "execution_count": 10,
   "metadata": {},
   "outputs": [
    {
     "output_type": "execute_result",
     "data": {
      "text/plain": "'Wii Sports'"
     },
     "metadata": {},
     "execution_count": 10
    }
   ],
   "source": [
    "# print(vg_df[['Name', 0]])\n",
    "vg_df[vg_df['Rank']==1]['Name'][0]"
   ]
  },
  {
   "cell_type": "code",
   "execution_count": 32,
   "metadata": {},
   "outputs": [
    {
     "output_type": "stream",
     "name": "stdout",
     "text": "0.8166830292988796\n0.26466742981082064\n50.80306374875828\n"
    }
   ],
   "source": [
    "# vg_df[vg_df['Name']==\"Wii Sports\"]['NA_Sales'].std()\n",
    "# stdev of na sales first\n",
    "na_std = vg_df['NA_Sales'].std()\n",
    "print(na_std)\n",
    "# then looking at the mean for NA Sales\n",
    "mean_std = vg_df['NA_Sales'].mean()\n",
    "print(mean_std)\n",
    "# determine what wii sports na sales are\n",
    "ws_na_sales = vg_df[vg_df['Name'] == 'Wii Sports']['NA_Sales'][0]\n",
    "ws_na_sales\n",
    "# divide wii sports na sales by the number that was na.stdev\n",
    "solution = ws_na_sales/na_std\n",
    "print(solution)"
   ]
  },
  {
   "cell_type": "markdown",
   "metadata": {},
   "source": [
    "## The Nintendo Wii seems to have outdone itself with games. How does its average number of sales compare with all of the other platforms?\n",
    "* | First Value − Second Value(First Value + Second Value)/2 | × 100%\n",
    "* It has sold on average 15% more games than all other platforms combined"
   ]
  },
  {
   "cell_type": "code",
   "execution_count": 42,
   "metadata": {},
   "outputs": [
    {
     "output_type": "stream",
     "name": "stdout",
     "text": "0.6994037735849057\n0.5233896418516336\n15.665193499900532\n"
    }
   ],
   "source": [
    "wii_sales_avg = vg_df[vg_df['Platform'] == 'Wii']['Global_Sales'].mean()\n",
    "print(wii_sales_avg)\n",
    "\n",
    "global_sales_avg_no_wii = vg_df[vg_df['Platform'] != 'Wii']['Global_Sales'].mean()\n",
    "print(global_sales_avg_no_wii)\n",
    "\n",
    "percent_difference = abs((wii_sales_avg-global_sales_avg_no_wii/((wii_sales_avg+global_sales_avg_no_wii)/2))*100)\n",
    "print(percent_difference)"
   ]
  },
  {
   "cell_type": "markdown",
   "metadata": {},
   "source": [
    "## What's the best selling game in Japan?"
   ]
  },
  {
   "cell_type": "markdown",
   "metadata": {},
   "source": [
    "## Whic country buys the most games?"
   ]
  },
  {
   "cell_type": "markdown",
   "metadata": {},
   "source": [
    "## Which year had the largest global sales?"
   ]
  },
  {
   "cell_type": "code",
   "execution_count": null,
   "metadata": {},
   "outputs": [],
   "source": []
  }
 ],
 "metadata": {
  "language_info": {
   "codemirror_mode": {
    "name": "ipython",
    "version": 3
   },
   "file_extension": ".py",
   "mimetype": "text/x-python",
   "name": "python",
   "nbconvert_exporter": "python",
   "pygments_lexer": "ipython3",
   "version": "3.8.2-final"
  },
  "orig_nbformat": 2,
  "kernelspec": {
   "name": "python38264bitvenvvenv0c2a101782fb4a0b859b30002908f31b",
   "display_name": "Python 3.8.2 64-bit ('.venv': venv)"
  }
 },
 "nbformat": 4,
 "nbformat_minor": 2
}